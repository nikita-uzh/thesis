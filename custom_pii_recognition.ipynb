{
 "cells": [
  {
   "cell_type": "code",
   "execution_count": null,
   "id": "bcef52d1",
   "metadata": {},
   "outputs": [],
   "source": [
    "import requests\n",
    "import os\n",
    "import sys\n",
    "import json"
   ]
  },
  {
   "cell_type": "code",
   "execution_count": null,
   "id": "6a8d0ec0",
   "metadata": {},
   "outputs": [],
   "source": [
    "# Azure AI setup details\n",
    "# lKey and lEndpoint are placeholders for the actual, confidential values. they need to be inserted before running.\n",
    "LANGUAGE_KEY = os.environ['LANGUAGE_KEY'] if 'LANGUAGE_KEY' in os.environ else 'lKey'\n",
    "LANGUAGE_ENDPOINT = os.environ['LANGUAGE_ENDPOINT'] if 'LANGUAGE_ENDPOINT' in os.environ else 'lEndpoint'"
   ]
  },
  {
   "cell_type": "code",
   "execution_count": null,
   "id": "e4c07d3b",
   "metadata": {},
   "outputs": [],
   "source": [
    "# defining variable for Azure AI API limit to avoid magic number in code\n",
    "apiInputLimit = 5"
   ]
  },
  {
   "cell_type": "code",
   "execution_count": null,
   "id": "7c77d76d",
   "metadata": {},
   "outputs": [],
   "source": [
    "# Azure API call\n",
    "def run_pii(texts: list, lang='de', start_idx=1):\n",
    "    # customize entities recognized with 'piiCategories' list to detect non-default categories such as DateTime as well\n",
    "    body = {'kind': 'PiiEntityRecognition',\n",
    "            'parameters': {'modelVersion': 'latest',\n",
    "                           'piiCategories': ['Person', 'PersonType', 'PhoneNumber', 'Organization', 'DateTime',\n",
    "                                             'Address', 'Email']},\n",
    "            'analysisInput': {'documents': []}}\n",
    "\n",
    "    cnt = start_idx\n",
    "    for text in texts:\n",
    "        body['analysisInput']['documents'].append({'id': cnt,\n",
    "                                                   'language': lang,\n",
    "                                                   'text': text})\n",
    "        cnt += 1\n",
    "\n",
    "    return requests.post(url=f'{LANGUAGE_ENDPOINT}/language/:analyze-text?api-version=2023-04-01', json=body,\n",
    "                         headers={\"Content-Type\": \"application/json\", \"Ocp-Apim-Subscription-Key\": LANGUAGE_KEY})"
   ]
  },
  {
   "cell_type": "code",
   "execution_count": null,
   "id": "7a050782",
   "metadata": {},
   "outputs": [],
   "source": [
    "# helper method to split data into subsets due to API input limit\n",
    "def get_subset(data, apiInputLimit):\n",
    "    phrases = data.readlines()\n",
    "    for currentIndex in range(0, len(phrases), apiInputLimit):\n",
    "        yield phrases[currentIndex: currentIndex + apiInputLimit]"
   ]
  },
  {
   "cell_type": "code",
   "execution_count": null,
   "id": "165d343d",
   "metadata": {},
   "outputs": [],
   "source": [
    "# helper method to parse data input\n",
    "def parse_data(phrases: list):\n",
    "    input = []\n",
    "    for phrase in phrases:\n",
    "        input.append(phrase.strip())\n",
    "    return input"
   ]
  },
  {
   "cell_type": "code",
   "execution_count": null,
   "id": "bb022df7",
   "metadata": {},
   "outputs": [],
   "source": [
    "# helper method to extract confidence score from returned json output\n",
    "def get_confidence_score(string: input):\n",
    "    resp = run_pii(input)\n",
    "    content = resp.json()\n",
    "\n",
    "    for document in content['results']['documents']:\n",
    "        print('redacted text: ' + document['redactedText'])\n",
    "        if 'entities' in document:\n",
    "            for entity in document['entities']:\n",
    "                cScore = entity.get('confidenceScore', None)\n",
    "                print('Confidence Score: ' + str(cScore))\n",
    "        print()"
   ]
  },
  {
   "cell_type": "code",
   "execution_count": null,
   "id": "0c3fdbaf",
   "metadata": {},
   "outputs": [],
   "source": [
    "data = open('wikiann_samples.txt', 'r')\n",
    "# due to API size limit, split file into subsets of max. size apiInputLimit for api calls\n",
    "for subset in get_subset(data, apiInputLimit):\n",
    "    input = parse_data(subset)\n",
    "    get_confidence_score(input)"
   ]
  }
 ],
 "metadata": {
  "kernelspec": {
   "display_name": "Python 3 (ipykernel)",
   "language": "python",
   "name": "python3"
  },
  "language_info": {
   "codemirror_mode": {
    "name": "ipython",
    "version": 3
   },
   "file_extension": ".py",
   "mimetype": "text/x-python",
   "name": "python",
   "nbconvert_exporter": "python",
   "pygments_lexer": "ipython3",
   "version": "3.9.13"
  }
 },
 "nbformat": 4,
 "nbformat_minor": 5
}
